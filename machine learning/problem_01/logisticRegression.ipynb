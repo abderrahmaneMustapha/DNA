{
 "nbformat": 4,
 "nbformat_minor": 2,
 "metadata": {
  "language_info": {
   "name": "python",
   "codemirror_mode": {
    "name": "ipython",
    "version": 3
   },
   "version": "3.7.4-final"
  },
  "orig_nbformat": 2,
  "file_extension": ".py",
  "mimetype": "text/x-python",
  "name": "python",
  "npconvert_exporter": "python",
  "pygments_lexer": "ipython3",
  "version": 3,
  "kernelspec": {
   "name": "python3",
   "display_name": "Python 3"
  }
 },
 "cells": [
  {
   "cell_type": "code",
   "execution_count": 100,
   "metadata": {},
   "outputs": [],
   "source": [
    "import pandas as pd\n",
    "import numpy as np\n",
    "import matplotlib.pyplot as plt"
   ]
  },
  {
   "cell_type": "code",
   "execution_count": 101,
   "metadata": {},
   "outputs": [
    {
     "name": "stdout",
     "output_type": "stream",
     "text": "<class 'pandas.core.frame.DataFrame'>\nRangeIndex: 1762 entries, 0 to 1761\nData columns (total 6 columns):\nid_student      1762 non-null int64\nalgo_one        1762 non-null float64\nalgo_two        1762 non-null float64\ncurrent_year    1762 non-null int64\nstudy_level     1762 non-null object\nstatus          1762 non-null object\ndtypes: float64(2), int64(2), object(2)\nmemory usage: 82.7+ KB\n<class 'pandas.core.frame.DataFrame'>\nRangeIndex: 4569 entries, 0 to 4568\nData columns (total 12 columns):\nid_student      4569 non-null int64\ngender          4569 non-null object\nlevel           4567 non-null float64\nrepeated        4568 non-null object\nstatus          4568 non-null object\nstudy_path      4567 non-null object\nscholar_year    4567 non-null float64\nbac_id          4568 non-null object\nbac_year        4569 non-null float64\nbac_path        4568 non-null object\nbac_feedback    4568 non-null object\nbac_avg         4568 non-null float64\ndtypes: float64(4), int64(1), object(7)\nmemory usage: 428.5+ KB\n<class 'pandas.core.frame.DataFrame'>\nInt64Index: 3622 entries, 0 to 3625\nData columns (total 16 columns):\nid_student      3622 non-null int64\ngender          3622 non-null object\nlevel           3622 non-null float64\nrepeated        3622 non-null object\nstatus          3622 non-null object\nstudy_path      3622 non-null object\nscholar_year    3622 non-null float64\nbac_id          3622 non-null object\nbac_year        3622 non-null float64\nbac_path        3622 non-null object\nbac_feedback    3622 non-null object\nbac_avg         3622 non-null float64\nalgo_one        3622 non-null float64\nalgo_two        3622 non-null float64\ncurrent_year    3622 non-null int64\nstudy_level     3622 non-null object\ndtypes: float64(6), int64(2), object(8)\nmemory usage: 481.0+ KB\n"
    }
   ],
   "source": [
    "from sklearn.model_selection import train_test_split\n",
    "from prepareData import prepare\n",
    "x_train , x_test , y_train , y_test = prepare()"
   ]
  },
  {
   "cell_type": "code",
   "execution_count": 102,
   "metadata": {},
   "outputs": [],
   "source": [
    "from sklearn.linear_model import LogisticRegression\n",
    "clf = LogisticRegression().fit(x_train, y_train)\n",
    "pred = clf.predict(x_test)"
   ]
  },
  {
   "cell_type": "code",
   "execution_count": 103,
   "metadata": {},
   "outputs": [
    {
     "data": {
      "text/plain": "array([[9.49085208e-074, 1.46367344e-025, 1.74460481e-019, ...,\n        3.30512914e-004, 3.05529044e-004, 4.06130565e-004],\n       [1.85920464e-117, 3.32816309e-039, 2.48262917e-030, ...,\n        5.94932279e-004, 1.61243381e-004, 2.85972004e-003],\n       [2.87410505e-096, 1.72375814e-032, 2.76044537e-025, ...,\n        8.74351965e-005, 6.14759950e-005, 5.54773507e-003],\n       ...,\n       [2.78266513e-032, 6.20862167e-012, 1.54629088e-009, ...,\n        1.31817341e-003, 1.04257594e-003, 2.57895275e-004],\n       [3.32484560e-019, 5.70812751e-008, 1.74502162e-006, ...,\n        9.84075480e-006, 1.75333581e-005, 5.83812540e-006],\n       [3.30238178e-021, 1.50982626e-008, 1.19651209e-006, ...,\n        3.53146721e-005, 1.10797653e-006, 9.13580623e-006]])"
     },
     "execution_count": 103,
     "metadata": {},
     "output_type": "execute_result"
    }
   ],
   "source": [
    "clf.predict_proba(x_test)"
   ]
  },
  {
   "cell_type": "code",
   "execution_count": 104,
   "metadata": {},
   "outputs": [
    {
     "data": {
      "text/plain": "0.2686292548298068"
     },
     "execution_count": 104,
     "metadata": {},
     "output_type": "execute_result"
    }
   ],
   "source": [
    "clf.score(x_test, y_test)"
   ]
  },
  {
   "cell_type": "code",
   "execution_count": 105,
   "metadata": {},
   "outputs": [
    {
     "data": {
      "text/plain": "0.2686292548298068"
     },
     "execution_count": 105,
     "metadata": {},
     "output_type": "execute_result"
    }
   ],
   "source": [
    "from sklearn.metrics import accuracy_score\n",
    "score =accuracy_score(y_test,pred)\n",
    "score"
   ]
  }
 ]
}