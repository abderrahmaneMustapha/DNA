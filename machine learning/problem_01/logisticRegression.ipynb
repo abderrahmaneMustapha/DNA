{
 "nbformat": 4,
 "nbformat_minor": 2,
 "metadata": {
  "language_info": {
   "name": "python",
   "codemirror_mode": {
    "name": "ipython",
    "version": 3
   },
   "version": "3.7.4-final"
  },
  "orig_nbformat": 2,
  "file_extension": ".py",
  "mimetype": "text/x-python",
  "name": "python",
  "npconvert_exporter": "python",
  "pygments_lexer": "ipython3",
  "version": 3,
  "kernelspec": {
   "name": "python3",
   "display_name": "Python 3"
  }
 },
 "cells": [
  {
   "cell_type": "code",
   "execution_count": 78,
   "metadata": {},
   "outputs": [],
   "source": [
    "import pandas as pd\n",
    "import numpy as np\n",
    "import matplotlib.pyplot as plt"
   ]
  },
  {
   "cell_type": "code",
   "execution_count": 79,
   "metadata": {},
   "outputs": [
    {
     "name": "stdout",
     "output_type": "stream",
     "text": "<class 'pandas.core.frame.DataFrame'>\nRangeIndex: 1762 entries, 0 to 1761\nData columns (total 6 columns):\nid_student      1762 non-null int64\nalgo_one        1762 non-null float64\nalgo_two        1762 non-null float64\ncurrent_year    1762 non-null int64\nstudy_level     1762 non-null object\nstatus          1762 non-null object\ndtypes: float64(2), int64(2), object(2)\nmemory usage: 82.7+ KB\n"
    }
   ],
   "source": [
    "algo =  pd.read_csv(\"result_clean.csv\")\n",
    "algo.info()"
   ]
  },
  {
   "cell_type": "code",
   "execution_count": 80,
   "metadata": {},
   "outputs": [
    {
     "name": "stdout",
     "output_type": "stream",
     "text": "<class 'pandas.core.frame.DataFrame'>\nRangeIndex: 4569 entries, 0 to 4568\nData columns (total 12 columns):\nid_student      4569 non-null int64\ngender          4569 non-null object\nlevel           4567 non-null float64\nrepeated        4568 non-null object\nstatus          4568 non-null object\nstudy_path      4567 non-null object\nscholar_year    4567 non-null float64\nbac_id          4568 non-null object\nbac_year        4569 non-null float64\nbac_path        4568 non-null object\nbac_feedback    4568 non-null object\nbac_avg         4568 non-null float64\ndtypes: float64(4), int64(1), object(7)\nmemory usage: 428.5+ KB\n"
    }
   ],
   "source": [
    "bac =  pd.read_csv(\"student_bac_path.csv\")\n",
    "bac = bac.rename(columns={\"student_id\": \"id_student\"})\n",
    "bac.info()\n"
   ]
  },
  {
   "cell_type": "code",
   "execution_count": 81,
   "metadata": {},
   "outputs": [
    {
     "name": "stdout",
     "output_type": "stream",
     "text": "<class 'pandas.core.frame.DataFrame'>\nInt64Index: 3626 entries, 0 to 3625\nData columns (total 16 columns):\nid_student      3626 non-null int64\ngender          3626 non-null object\nlevel           3626 non-null float64\nrepeated        3626 non-null object\nstatus          3626 non-null object\nstudy_path      3626 non-null object\nscholar_year    3626 non-null float64\nbac_id          3626 non-null object\nbac_year        3626 non-null float64\nbac_path        3626 non-null object\nbac_feedback    3626 non-null object\nbac_avg         3626 non-null float64\nalgo_one        3626 non-null float64\nalgo_two        3626 non-null float64\ncurrent_year    3626 non-null int64\nstudy_level     3626 non-null object\ndtypes: float64(6), int64(2), object(8)\nmemory usage: 481.6+ KB\n"
    }
   ],
   "source": [
    " #merge csv\n",
    " merge = bac.merge(algo, how='inner')\n",
    " merge.info()"
   ]
  },
  {
   "cell_type": "code",
   "execution_count": 82,
   "metadata": {},
   "outputs": [
    {
     "data": {
      "text/html": "<div>\n<style scoped>\n    .dataframe tbody tr th:only-of-type {\n        vertical-align: middle;\n    }\n\n    .dataframe tbody tr th {\n        vertical-align: top;\n    }\n\n    .dataframe thead th {\n        text-align: right;\n    }\n</style>\n<table border=\"1\" class=\"dataframe\">\n  <thead>\n    <tr style=\"text-align: right;\">\n      <th></th>\n      <th>id_student</th>\n      <th>gender</th>\n      <th>level</th>\n      <th>repeated</th>\n      <th>status</th>\n      <th>study_path</th>\n      <th>scholar_year</th>\n      <th>bac_id</th>\n      <th>bac_year</th>\n      <th>bac_path</th>\n      <th>bac_feedback</th>\n      <th>bac_avg</th>\n      <th>algo_one</th>\n      <th>algo_two</th>\n      <th>current_year</th>\n      <th>study_level</th>\n    </tr>\n  </thead>\n  <tbody>\n    <tr>\n      <td>0</td>\n      <td>14011097290</td>\n      <td>M</td>\n      <td>2.0</td>\n      <td>False</td>\n      <td>Admis</td>\n      <td>MGI</td>\n      <td>2016.0</td>\n      <td>10/8008081</td>\n      <td>2010.0</td>\n      <td>S</td>\n      <td>Passable</td>\n      <td>11.38</td>\n      <td>9.03</td>\n      <td>7.44</td>\n      <td>1</td>\n      <td>MIAS</td>\n    </tr>\n    <tr>\n      <td>1</td>\n      <td>14011097290</td>\n      <td>M</td>\n      <td>2.0</td>\n      <td>False</td>\n      <td>Admis</td>\n      <td>MGI</td>\n      <td>2016.0</td>\n      <td>10/8008081</td>\n      <td>2010.0</td>\n      <td>S</td>\n      <td>Passable</td>\n      <td>11.38</td>\n      <td>9.03</td>\n      <td>7.44</td>\n      <td>3</td>\n      <td>MIAS</td>\n    </tr>\n    <tr>\n      <td>2</td>\n      <td>14011097290</td>\n      <td>M</td>\n      <td>2.0</td>\n      <td>False</td>\n      <td>Admis</td>\n      <td>MGI</td>\n      <td>2016.0</td>\n      <td>10/8008081</td>\n      <td>2010.0</td>\n      <td>S</td>\n      <td>Passable</td>\n      <td>11.38</td>\n      <td>9.03</td>\n      <td>7.44</td>\n      <td>1</td>\n      <td>MGI</td>\n    </tr>\n    <tr>\n      <td>3</td>\n      <td>14011097290</td>\n      <td>M</td>\n      <td>1.0</td>\n      <td>True</td>\n      <td>Admis</td>\n      <td>MGI</td>\n      <td>2015.0</td>\n      <td>10/8008081</td>\n      <td>2010.0</td>\n      <td>S</td>\n      <td>Passable</td>\n      <td>11.38</td>\n      <td>9.03</td>\n      <td>7.44</td>\n      <td>1</td>\n      <td>MIAS</td>\n    </tr>\n    <tr>\n      <td>4</td>\n      <td>14011097290</td>\n      <td>M</td>\n      <td>1.0</td>\n      <td>True</td>\n      <td>Admis</td>\n      <td>MGI</td>\n      <td>2015.0</td>\n      <td>10/8008081</td>\n      <td>2010.0</td>\n      <td>S</td>\n      <td>Passable</td>\n      <td>11.38</td>\n      <td>9.03</td>\n      <td>7.44</td>\n      <td>3</td>\n      <td>MIAS</td>\n    </tr>\n  </tbody>\n</table>\n</div>",
      "text/plain": "    id_student gender  level repeated status study_path  scholar_year  \\\n0  14011097290      M    2.0    False  Admis        MGI        2016.0   \n1  14011097290      M    2.0    False  Admis        MGI        2016.0   \n2  14011097290      M    2.0    False  Admis        MGI        2016.0   \n3  14011097290      M    1.0     True  Admis        MGI        2015.0   \n4  14011097290      M    1.0     True  Admis        MGI        2015.0   \n\n       bac_id  bac_year bac_path bac_feedback  bac_avg  algo_one  algo_two  \\\n0  10/8008081    2010.0        S     Passable    11.38      9.03      7.44   \n1  10/8008081    2010.0        S     Passable    11.38      9.03      7.44   \n2  10/8008081    2010.0        S     Passable    11.38      9.03      7.44   \n3  10/8008081    2010.0        S     Passable    11.38      9.03      7.44   \n4  10/8008081    2010.0        S     Passable    11.38      9.03      7.44   \n\n   current_year study_level  \n0             1        MIAS  \n1             3        MIAS  \n2             1         MGI  \n3             1        MIAS  \n4             3        MIAS  "
     },
     "execution_count": 82,
     "metadata": {},
     "output_type": "execute_result"
    }
   ],
   "source": [
    "merge.head()"
   ]
  },
  {
   "cell_type": "code",
   "execution_count": 86,
   "metadata": {},
   "outputs": [],
   "source": [
    "merge = merge.drop(columns=['id_student','level','repeated', 'repeated', 'scholar_year', 'bac_id','current_year','study_path','study_level','status'])"
   ]
  },
  {
   "cell_type": "code",
   "execution_count": 87,
   "metadata": {},
   "outputs": [
    {
     "data": {
      "text/html": "<div>\n<style scoped>\n    .dataframe tbody tr th:only-of-type {\n        vertical-align: middle;\n    }\n\n    .dataframe tbody tr th {\n        vertical-align: top;\n    }\n\n    .dataframe thead th {\n        text-align: right;\n    }\n</style>\n<table border=\"1\" class=\"dataframe\">\n  <thead>\n    <tr style=\"text-align: right;\">\n      <th></th>\n      <th>gender</th>\n      <th>bac_year</th>\n      <th>bac_path</th>\n      <th>bac_feedback</th>\n      <th>bac_avg</th>\n      <th>algo_one</th>\n    </tr>\n  </thead>\n  <tbody>\n    <tr>\n      <td>0</td>\n      <td>M</td>\n      <td>2010.0</td>\n      <td>S</td>\n      <td>Passable</td>\n      <td>11.38</td>\n      <td>9.03</td>\n    </tr>\n    <tr>\n      <td>1</td>\n      <td>M</td>\n      <td>2010.0</td>\n      <td>S</td>\n      <td>Passable</td>\n      <td>11.38</td>\n      <td>9.03</td>\n    </tr>\n    <tr>\n      <td>2</td>\n      <td>M</td>\n      <td>2010.0</td>\n      <td>S</td>\n      <td>Passable</td>\n      <td>11.38</td>\n      <td>9.03</td>\n    </tr>\n    <tr>\n      <td>3</td>\n      <td>M</td>\n      <td>2010.0</td>\n      <td>S</td>\n      <td>Passable</td>\n      <td>11.38</td>\n      <td>9.03</td>\n    </tr>\n    <tr>\n      <td>4</td>\n      <td>M</td>\n      <td>2010.0</td>\n      <td>S</td>\n      <td>Passable</td>\n      <td>11.38</td>\n      <td>9.03</td>\n    </tr>\n  </tbody>\n</table>\n</div>",
      "text/plain": "  gender  bac_year bac_path bac_feedback  bac_avg  algo_one\n0      M    2010.0        S     Passable    11.38      9.03\n1      M    2010.0        S     Passable    11.38      9.03\n2      M    2010.0        S     Passable    11.38      9.03\n3      M    2010.0        S     Passable    11.38      9.03\n4      M    2010.0        S     Passable    11.38      9.03"
     },
     "execution_count": 87,
     "metadata": {},
     "output_type": "execute_result"
    }
   ],
   "source": [
    "Y = merge['algo_two']\n",
    "X = merge.drop(columns=['algo_two'])\n",
    "X.head()"
   ]
  },
  {
   "cell_type": "code",
   "execution_count": 94,
   "metadata": {},
   "outputs": [
    {
     "ename": "TypeError",
     "evalue": "'(slice(None, None, None), 0)' is an invalid key",
     "output_type": "error",
     "traceback": [
      "\u001b[1;31m---------------------------------------------------------------------------\u001b[0m",
      "\u001b[1;31mTypeError\u001b[0m                                 Traceback (most recent call last)",
      "\u001b[1;32m<ipython-input-94-db1f372ec3cd>\u001b[0m in \u001b[0;36m<module>\u001b[1;34m\u001b[0m\n\u001b[0;32m      3\u001b[0m \u001b[0mlabel\u001b[0m \u001b[1;33m=\u001b[0m \u001b[0mLabelEncoder\u001b[0m\u001b[1;33m(\u001b[0m\u001b[1;33m)\u001b[0m\u001b[1;33m\u001b[0m\u001b[1;33m\u001b[0m\u001b[0m\n\u001b[0;32m      4\u001b[0m \u001b[1;32mfor\u001b[0m \u001b[0mi\u001b[0m \u001b[1;32min\u001b[0m \u001b[0mrange\u001b[0m\u001b[1;33m(\u001b[0m\u001b[1;36m0\u001b[0m\u001b[1;33m,\u001b[0m\u001b[1;36m6\u001b[0m\u001b[1;33m)\u001b[0m\u001b[1;33m:\u001b[0m\u001b[1;33m\u001b[0m\u001b[1;33m\u001b[0m\u001b[0m\n\u001b[1;32m----> 5\u001b[1;33m     \u001b[0mX\u001b[0m\u001b[1;33m[\u001b[0m\u001b[1;33m:\u001b[0m\u001b[1;33m,\u001b[0m\u001b[0mi\u001b[0m\u001b[1;33m]\u001b[0m \u001b[1;33m=\u001b[0m \u001b[0mlabel\u001b[0m\u001b[1;33m.\u001b[0m\u001b[0mfit_transform\u001b[0m\u001b[1;33m(\u001b[0m\u001b[0mX\u001b[0m\u001b[1;33m[\u001b[0m\u001b[1;33m:\u001b[0m\u001b[1;33m,\u001b[0m\u001b[0mi\u001b[0m\u001b[1;33m]\u001b[0m\u001b[1;33m)\u001b[0m\u001b[1;33m\u001b[0m\u001b[1;33m\u001b[0m\u001b[0m\n\u001b[0m",
      "\u001b[1;32mC:\\ProgramData\\Anaconda3\\lib\\site-packages\\pandas\\core\\frame.py\u001b[0m in \u001b[0;36m__getitem__\u001b[1;34m(self, key)\u001b[0m\n\u001b[0;32m   2978\u001b[0m             \u001b[1;32mif\u001b[0m \u001b[0mself\u001b[0m\u001b[1;33m.\u001b[0m\u001b[0mcolumns\u001b[0m\u001b[1;33m.\u001b[0m\u001b[0mnlevels\u001b[0m \u001b[1;33m>\u001b[0m \u001b[1;36m1\u001b[0m\u001b[1;33m:\u001b[0m\u001b[1;33m\u001b[0m\u001b[1;33m\u001b[0m\u001b[0m\n\u001b[0;32m   2979\u001b[0m                 \u001b[1;32mreturn\u001b[0m \u001b[0mself\u001b[0m\u001b[1;33m.\u001b[0m\u001b[0m_getitem_multilevel\u001b[0m\u001b[1;33m(\u001b[0m\u001b[0mkey\u001b[0m\u001b[1;33m)\u001b[0m\u001b[1;33m\u001b[0m\u001b[1;33m\u001b[0m\u001b[0m\n\u001b[1;32m-> 2980\u001b[1;33m             \u001b[0mindexer\u001b[0m \u001b[1;33m=\u001b[0m \u001b[0mself\u001b[0m\u001b[1;33m.\u001b[0m\u001b[0mcolumns\u001b[0m\u001b[1;33m.\u001b[0m\u001b[0mget_loc\u001b[0m\u001b[1;33m(\u001b[0m\u001b[0mkey\u001b[0m\u001b[1;33m)\u001b[0m\u001b[1;33m\u001b[0m\u001b[1;33m\u001b[0m\u001b[0m\n\u001b[0m\u001b[0;32m   2981\u001b[0m             \u001b[1;32mif\u001b[0m \u001b[0mis_integer\u001b[0m\u001b[1;33m(\u001b[0m\u001b[0mindexer\u001b[0m\u001b[1;33m)\u001b[0m\u001b[1;33m:\u001b[0m\u001b[1;33m\u001b[0m\u001b[1;33m\u001b[0m\u001b[0m\n\u001b[0;32m   2982\u001b[0m                 \u001b[0mindexer\u001b[0m \u001b[1;33m=\u001b[0m \u001b[1;33m[\u001b[0m\u001b[0mindexer\u001b[0m\u001b[1;33m]\u001b[0m\u001b[1;33m\u001b[0m\u001b[1;33m\u001b[0m\u001b[0m\n",
      "\u001b[1;32mC:\\ProgramData\\Anaconda3\\lib\\site-packages\\pandas\\core\\indexes\\base.py\u001b[0m in \u001b[0;36mget_loc\u001b[1;34m(self, key, method, tolerance)\u001b[0m\n\u001b[0;32m   2895\u001b[0m                 )\n\u001b[0;32m   2896\u001b[0m             \u001b[1;32mtry\u001b[0m\u001b[1;33m:\u001b[0m\u001b[1;33m\u001b[0m\u001b[1;33m\u001b[0m\u001b[0m\n\u001b[1;32m-> 2897\u001b[1;33m                 \u001b[1;32mreturn\u001b[0m \u001b[0mself\u001b[0m\u001b[1;33m.\u001b[0m\u001b[0m_engine\u001b[0m\u001b[1;33m.\u001b[0m\u001b[0mget_loc\u001b[0m\u001b[1;33m(\u001b[0m\u001b[0mkey\u001b[0m\u001b[1;33m)\u001b[0m\u001b[1;33m\u001b[0m\u001b[1;33m\u001b[0m\u001b[0m\n\u001b[0m\u001b[0;32m   2898\u001b[0m             \u001b[1;32mexcept\u001b[0m \u001b[0mKeyError\u001b[0m\u001b[1;33m:\u001b[0m\u001b[1;33m\u001b[0m\u001b[1;33m\u001b[0m\u001b[0m\n\u001b[0;32m   2899\u001b[0m                 \u001b[1;32mreturn\u001b[0m \u001b[0mself\u001b[0m\u001b[1;33m.\u001b[0m\u001b[0m_engine\u001b[0m\u001b[1;33m.\u001b[0m\u001b[0mget_loc\u001b[0m\u001b[1;33m(\u001b[0m\u001b[0mself\u001b[0m\u001b[1;33m.\u001b[0m\u001b[0m_maybe_cast_indexer\u001b[0m\u001b[1;33m(\u001b[0m\u001b[0mkey\u001b[0m\u001b[1;33m)\u001b[0m\u001b[1;33m)\u001b[0m\u001b[1;33m\u001b[0m\u001b[1;33m\u001b[0m\u001b[0m\n",
      "\u001b[1;32mpandas\\_libs\\index.pyx\u001b[0m in \u001b[0;36mpandas._libs.index.IndexEngine.get_loc\u001b[1;34m()\u001b[0m\n",
      "\u001b[1;32mpandas\\_libs\\index.pyx\u001b[0m in \u001b[0;36mpandas._libs.index.IndexEngine.get_loc\u001b[1;34m()\u001b[0m\n",
      "\u001b[1;31mTypeError\u001b[0m: '(slice(None, None, None), 0)' is an invalid key"
     ]
    }
   ],
   "source": [
    "#encode data \n",
    "from sklearn.preprocessing import LabelEncoder\n",
    "label = LabelEncoder()\n",
    "for i in range(0,6):\n",
    "    X[:,i] = label.fit_transform(X[:,i])"
   ]
  },
  {
   "cell_type": "code",
   "execution_count": null,
   "metadata": {},
   "outputs": [],
   "source": [
    "X"
   ]
  }
 ]
}