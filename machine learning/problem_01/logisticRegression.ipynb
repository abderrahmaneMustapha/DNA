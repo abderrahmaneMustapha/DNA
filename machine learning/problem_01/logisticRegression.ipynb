{
 "nbformat": 4,
 "nbformat_minor": 2,
 "metadata": {
  "language_info": {
   "name": "python",
   "codemirror_mode": {
    "name": "ipython",
    "version": 3
   },
   "version": "3.7.4-final"
  },
  "orig_nbformat": 2,
  "file_extension": ".py",
  "mimetype": "text/x-python",
  "name": "python",
  "npconvert_exporter": "python",
  "pygments_lexer": "ipython3",
  "version": 3,
  "kernelspec": {
   "name": "python3",
   "display_name": "Python 3"
  }
 },
 "cells": [
  {
   "cell_type": "code",
   "execution_count": 4,
   "metadata": {},
   "outputs": [],
   "source": [
    "import pandas as pd\n",
    "import numpy as np\n",
    "import matplotlib.pyplot as plt"
   ]
  },
  {
   "cell_type": "code",
   "execution_count": 5,
   "metadata": {},
   "outputs": [],
   "source": [
    "algo =  pd.read_csv(\"result_clean.csv\")\n",
    "algo.info()"
   ]
  },
  {
   "cell_type": "code",
   "execution_count": 3,
   "metadata": {},
   "outputs": [
    {
     "name": "stdout",
     "output_type": "stream",
     "text": "<class 'pandas.core.frame.DataFrame'>\nRangeIndex: 4569 entries, 0 to 4568\nData columns (total 12 columns):\nstudent_id      4569 non-null int64\ngender          4569 non-null object\nlevel           4567 non-null float64\nrepeated        4568 non-null object\nstatus          4568 non-null object\nstudy_path      4567 non-null object\nscholar_year    4567 non-null float64\nbac_id          4568 non-null object\nbac_year        4569 non-null float64\nbac_path        4568 non-null object\nbac_feedback    4568 non-null object\nbac_avg         4568 non-null float64\ndtypes: float64(4), int64(1), object(7)\nmemory usage: 428.5+ KB\n"
    }
   ],
   "source": [
    "bac =  pd.read_csv(\"student_bac_path.csv\")\n",
    "bac.info()"
   ]
  },
  {
   "cell_type": "code",
   "execution_count": null,
   "metadata": {},
   "outputs": [],
   "source": []
  }
 ]
}