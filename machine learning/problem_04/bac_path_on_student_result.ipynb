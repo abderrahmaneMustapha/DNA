{
 "nbformat": 4,
 "nbformat_minor": 2,
 "metadata": {
  "language_info": {
   "name": "python",
   "codemirror_mode": {
    "name": "ipython",
    "version": 3
   },
   "version": "3.7.4-final"
  },
  "orig_nbformat": 2,
  "file_extension": ".py",
  "mimetype": "text/x-python",
  "name": "python",
  "npconvert_exporter": "python",
  "pygments_lexer": "ipython3",
  "version": 3,
  "kernelspec": {
   "name": "python3",
   "display_name": "Python 3"
  }
 },
 "cells": [
  {
   "cell_type": "code",
   "execution_count": 0,
   "metadata": {},
   "outputs": [],
   "source": [
    "#import packages\n",
    "import pandas as pd\n",
    "import numpy as np\n",
    "import matplotlib.pyplot as plt\n",
    "from sklearn.metrics import accuracy_score"
   ]
  },
  {
   "cell_type": "code",
   "execution_count": 0,
   "metadata": {},
   "outputs": [],
   "source": [
    "data = pd.read_csv(\"student_bac_path.csv\")\n",
    "\n",
    "#drop student id and bac id\n",
    "data = data.drop(['bac_id','student_id'], axis=1)\n",
    "data"
   ]
  },
  {
   "cell_type": "code",
   "execution_count": 0,
   "metadata": {},
   "outputs": [],
   "source": [
    "data.info()"
   ]
  },
  {
   "cell_type": "code",
   "execution_count": 0,
   "metadata": {},
   "outputs": [],
   "source": [
    "Y  =  data['status'].copy()\n",
    "Y"
   ]
  },
  {
   "cell_type": "code",
   "execution_count": 0,
   "metadata": {},
   "outputs": [],
   "source": [
    "\n",
    "X= data.loc[:, data.columns != 'status']\n",
    "\n",
    "\n",
    "X.info()"
   ]
  },
  {
   "cell_type": "code",
   "execution_count": 0,
   "metadata": {},
   "outputs": [],
   "source": [
    "#convert X axis to numeric\n",
    "X['gender'],_  = pd.factorize(X['gender'])\n",
    "X['level'],_  = pd.factorize(X['level'])\n",
    "X['repeated'],_  = pd.factorize(X['repeated'])\n",
    "X['study_path'],_  = pd.factorize(X['study_path'])\n",
    "X['scholar_year'],_  = pd.factorize(X['scholar_year'])\n",
    "X['bac_year'],_  = pd.factorize(X['bac_year'])\n",
    "X['bac_path'],_  = pd.factorize(X['bac_path'])\n",
    "X['bac_feedback'],_  = pd.factorize(X['bac_feedback'])\n",
    "X['bac_avg'],_  = pd.factorize(X['bac_avg'])\n",
    "X.info()\n"
   ]
  },
  {
   "cell_type": "code",
   "execution_count": 0,
   "metadata": {},
   "outputs": [],
   "source": [
    "#convert Y axis to numeric\n",
    "Y,_  = pd.factorize(Y)\n",
    "Y"
   ]
  },
  {
   "cell_type": "code",
   "execution_count": 0,
   "metadata": {},
   "outputs": [],
   "source": [
    "#slplit data to train and test\n",
    "from sklearn.model_selection import train_test_split\n",
    "X_train, X_test, y_train, y_test = train_test_split(X, Y, random_state=0)"
   ]
  },
  {
   "cell_type": "code",
   "execution_count": 0,
   "metadata": {},
   "outputs": [],
   "source": [
    "#train\n",
    "from sklearn import svm\n",
    "clf = svm.SVC(kernel=\"poly\")\n",
    "clf.fit(X_train,y_train)"
   ]
  },
  {
   "cell_type": "code",
   "execution_count": 0,
   "metadata": {},
   "outputs": [],
   "source": [
    "#predict\n",
    "pred = clf.predict(X_test)\n",
    "accuracy = accuracy_score(y_test, pred)\n",
    "print(\" accuracy \"+accuracy)"
   ]
  },
  {
   "cell_type": "code",
   "execution_count": 0,
   "metadata": {},
   "outputs": [],
   "source": [
    "print"
   ]
  }
 ]
}