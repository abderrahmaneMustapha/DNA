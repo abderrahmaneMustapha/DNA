{
 "nbformat": 4,
 "nbformat_minor": 2,
 "metadata": {
  "language_info": {
   "name": "python",
   "codemirror_mode": {
    "name": "ipython",
    "version": 3
   },
   "version": "3.7.4-final"
  },
  "orig_nbformat": 2,
  "file_extension": ".py",
  "mimetype": "text/x-python",
  "name": "python",
  "npconvert_exporter": "python",
  "pygments_lexer": "ipython3",
  "version": 3,
  "kernelspec": {
   "name": "python3",
   "display_name": "Python 3"
  }
 },
 "cells": [
  {
   "cell_type": "code",
   "execution_count": 18,
   "metadata": {},
   "outputs": [],
   "source": [
    "#import packages\n",
    "import pandas as pd\n",
    "import numpy as np\n",
    "import matplotlib.pyplot as plt\n",
    "from sklearn.metrics import accuracy_score"
   ]
  },
  {
   "cell_type": "code",
   "execution_count": 19,
   "metadata": {},
   "outputs": [
    {
     "data": {
      "text/html": "<div>\n<style scoped>\n    .dataframe tbody tr th:only-of-type {\n        vertical-align: middle;\n    }\n\n    .dataframe tbody tr th {\n        vertical-align: top;\n    }\n\n    .dataframe thead th {\n        text-align: right;\n    }\n</style>\n<table border=\"1\" class=\"dataframe\">\n  <thead>\n    <tr style=\"text-align: right;\">\n      <th></th>\n      <th>gender</th>\n      <th>level</th>\n      <th>repeated</th>\n      <th>status</th>\n      <th>study_path</th>\n      <th>scholar_year</th>\n      <th>bac_year</th>\n      <th>bac_path</th>\n      <th>bac_feedback</th>\n      <th>bac_avg</th>\n    </tr>\n  </thead>\n  <tbody>\n    <tr>\n      <td>0</td>\n      <td>M</td>\n      <td>2.0</td>\n      <td>False</td>\n      <td>Admis</td>\n      <td>MGI</td>\n      <td>2016.0</td>\n      <td>2000.0</td>\n      <td>TM</td>\n      <td>Passable</td>\n      <td>10.09</td>\n    </tr>\n    <tr>\n      <td>1</td>\n      <td>M</td>\n      <td>2.0</td>\n      <td>False</td>\n      <td>Admis</td>\n      <td>MGI</td>\n      <td>2016.0</td>\n      <td>2010.0</td>\n      <td>S</td>\n      <td>Passable</td>\n      <td>11.38</td>\n    </tr>\n    <tr>\n      <td>2</td>\n      <td>F</td>\n      <td>2.0</td>\n      <td>False</td>\n      <td>Admis</td>\n      <td>MGI</td>\n      <td>2016.0</td>\n      <td>2012.0</td>\n      <td>S</td>\n      <td>A.Bien</td>\n      <td>12.13</td>\n    </tr>\n    <tr>\n      <td>3</td>\n      <td>F</td>\n      <td>2.0</td>\n      <td>True</td>\n      <td>Admis</td>\n      <td>MGI</td>\n      <td>2016.0</td>\n      <td>2001.0</td>\n      <td>TM</td>\n      <td>A.Bien</td>\n      <td>13.12</td>\n    </tr>\n    <tr>\n      <td>4</td>\n      <td>F</td>\n      <td>2.0</td>\n      <td>True</td>\n      <td>Admis</td>\n      <td>MGI</td>\n      <td>2016.0</td>\n      <td>2002.0</td>\n      <td>TM</td>\n      <td>Passable</td>\n      <td>10.06</td>\n    </tr>\n    <tr>\n      <td>...</td>\n      <td>...</td>\n      <td>...</td>\n      <td>...</td>\n      <td>...</td>\n      <td>...</td>\n      <td>...</td>\n      <td>...</td>\n      <td>...</td>\n      <td>...</td>\n      <td>...</td>\n    </tr>\n    <tr>\n      <td>4563</td>\n      <td>M</td>\n      <td>1.0</td>\n      <td>False</td>\n      <td>Ajourne</td>\n      <td>MGI</td>\n      <td>2010.0</td>\n      <td>2006.0</td>\n      <td>S</td>\n      <td>Passable</td>\n      <td>11.26</td>\n    </tr>\n    <tr>\n      <td>4564</td>\n      <td>F</td>\n      <td>1.0</td>\n      <td>False</td>\n      <td>Ajourne</td>\n      <td>MGI</td>\n      <td>2010.0</td>\n      <td>2006.0</td>\n      <td>S</td>\n      <td>Passable</td>\n      <td>10.53</td>\n    </tr>\n    <tr>\n      <td>4565</td>\n      <td>M</td>\n      <td>1.0</td>\n      <td>False</td>\n      <td>Admis</td>\n      <td>MGI</td>\n      <td>2010.0</td>\n      <td>2007.0</td>\n      <td>S</td>\n      <td>A.Bien</td>\n      <td>12.42</td>\n    </tr>\n    <tr>\n      <td>4566</td>\n      <td>F</td>\n      <td>1.0</td>\n      <td>False</td>\n      <td>Admis</td>\n      <td>MGI</td>\n      <td>2010.0</td>\n      <td>2007.0</td>\n      <td>S</td>\n      <td>Passable</td>\n      <td>10.55</td>\n    </tr>\n    <tr>\n      <td>4567</td>\n      <td>F</td>\n      <td>1.0</td>\n      <td>False</td>\n      <td>Admis</td>\n      <td>MGI</td>\n      <td>2010.0</td>\n      <td>2007.0</td>\n      <td>S</td>\n      <td>Passable</td>\n      <td>10.82</td>\n    </tr>\n  </tbody>\n</table>\n<p>4568 rows × 10 columns</p>\n</div>",
      "text/plain": "     gender  level  repeated   status study_path  scholar_year  bac_year  \\\n0         M    2.0     False    Admis        MGI        2016.0    2000.0   \n1         M    2.0     False    Admis        MGI        2016.0    2010.0   \n2         F    2.0     False    Admis        MGI        2016.0    2012.0   \n3         F    2.0      True    Admis        MGI        2016.0    2001.0   \n4         F    2.0      True    Admis        MGI        2016.0    2002.0   \n...     ...    ...       ...      ...        ...           ...       ...   \n4563      M    1.0     False  Ajourne        MGI        2010.0    2006.0   \n4564      F    1.0     False  Ajourne        MGI        2010.0    2006.0   \n4565      M    1.0     False    Admis        MGI        2010.0    2007.0   \n4566      F    1.0     False    Admis        MGI        2010.0    2007.0   \n4567      F    1.0     False    Admis        MGI        2010.0    2007.0   \n\n     bac_path bac_feedback  bac_avg  \n0          TM     Passable    10.09  \n1           S     Passable    11.38  \n2           S       A.Bien    12.13  \n3          TM       A.Bien    13.12  \n4          TM     Passable    10.06  \n...       ...          ...      ...  \n4563        S     Passable    11.26  \n4564        S     Passable    10.53  \n4565        S       A.Bien    12.42  \n4566        S     Passable    10.55  \n4567        S     Passable    10.82  \n\n[4568 rows x 10 columns]"
     },
     "execution_count": 19,
     "metadata": {},
     "output_type": "execute_result"
    }
   ],
   "source": [
    "data = pd.read_csv(\"student_bac_path.csv\")\n",
    "\n",
    "#drop student id and bac id\n",
    "data = data.drop(['bac_id','student_id'], axis=1)\n",
    "data"
   ]
  },
  {
   "cell_type": "code",
   "execution_count": 20,
   "metadata": {},
   "outputs": [
    {
     "name": "stdout",
     "output_type": "stream",
     "text": "<class 'pandas.core.frame.DataFrame'>\nRangeIndex: 4568 entries, 0 to 4567\nData columns (total 10 columns):\ngender          4568 non-null object\nlevel           4567 non-null float64\nrepeated        4568 non-null bool\nstatus          4568 non-null object\nstudy_path      4567 non-null object\nscholar_year    4567 non-null float64\nbac_year        4568 non-null float64\nbac_path        4568 non-null object\nbac_feedback    4568 non-null object\nbac_avg         4568 non-null float64\ndtypes: bool(1), float64(4), object(5)\nmemory usage: 325.8+ KB\n"
    }
   ],
   "source": [
    "data.info()"
   ]
  },
  {
   "cell_type": "code",
   "execution_count": 21,
   "metadata": {},
   "outputs": [
    {
     "data": {
      "text/plain": "0         Admis\n1         Admis\n2         Admis\n3         Admis\n4         Admis\n         ...   \n4563    Ajourne\n4564    Ajourne\n4565      Admis\n4566      Admis\n4567      Admis\nName: status, Length: 4568, dtype: object"
     },
     "execution_count": 21,
     "metadata": {},
     "output_type": "execute_result"
    }
   ],
   "source": [
    "Y  =  data['status'].copy()\n",
    "Y"
   ]
  },
  {
   "cell_type": "code",
   "execution_count": 22,
   "metadata": {},
   "outputs": [
    {
     "name": "stdout",
     "output_type": "stream",
     "text": "<class 'pandas.core.frame.DataFrame'>\nRangeIndex: 4568 entries, 0 to 4567\nData columns (total 9 columns):\ngender          4568 non-null object\nlevel           4567 non-null float64\nrepeated        4568 non-null bool\nstudy_path      4567 non-null object\nscholar_year    4567 non-null float64\nbac_year        4568 non-null float64\nbac_path        4568 non-null object\nbac_feedback    4568 non-null object\nbac_avg         4568 non-null float64\ndtypes: bool(1), float64(4), object(4)\nmemory usage: 290.1+ KB\n"
    }
   ],
   "source": [
    "\n",
    "X= data.loc[:, data.columns != 'status']\n",
    "\n",
    "\n",
    "X.info()"
   ]
  },
  {
   "cell_type": "code",
   "execution_count": 23,
   "metadata": {},
   "outputs": [
    {
     "name": "stdout",
     "output_type": "stream",
     "text": "<class 'pandas.core.frame.DataFrame'>\nRangeIndex: 4568 entries, 0 to 4567\nData columns (total 9 columns):\ngender          4568 non-null int64\nlevel           4568 non-null int64\nrepeated        4568 non-null int64\nstudy_path      4568 non-null int64\nscholar_year    4568 non-null int64\nbac_year        4568 non-null int64\nbac_path        4568 non-null int64\nbac_feedback    4568 non-null int64\nbac_avg         4568 non-null int64\ndtypes: int64(9)\nmemory usage: 321.3 KB\nC:\\ProgramData\\Anaconda3\\lib\\site-packages\\ipykernel_launcher.py:2: SettingWithCopyWarning: \nA value is trying to be set on a copy of a slice from a DataFrame.\nTry using .loc[row_indexer,col_indexer] = value instead\n\nSee the caveats in the documentation: http://pandas.pydata.org/pandas-docs/stable/user_guide/indexing.html#returning-a-view-versus-a-copy\n  \nC:\\ProgramData\\Anaconda3\\lib\\site-packages\\ipykernel_launcher.py:3: SettingWithCopyWarning: \nA value is trying to be set on a copy of a slice from a DataFrame.\nTry using .loc[row_indexer,col_indexer] = value instead\n\nSee the caveats in the documentation: http://pandas.pydata.org/pandas-docs/stable/user_guide/indexing.html#returning-a-view-versus-a-copy\n  This is separate from the ipykernel package so we can avoid doing imports until\nC:\\ProgramData\\Anaconda3\\lib\\site-packages\\ipykernel_launcher.py:4: SettingWithCopyWarning: \nA value is trying to be set on a copy of a slice from a DataFrame.\nTry using .loc[row_indexer,col_indexer] = value instead\n\nSee the caveats in the documentation: http://pandas.pydata.org/pandas-docs/stable/user_guide/indexing.html#returning-a-view-versus-a-copy\n  after removing the cwd from sys.path.\nC:\\ProgramData\\Anaconda3\\lib\\site-packages\\ipykernel_launcher.py:5: SettingWithCopyWarning: \nA value is trying to be set on a copy of a slice from a DataFrame.\nTry using .loc[row_indexer,col_indexer] = value instead\n\nSee the caveats in the documentation: http://pandas.pydata.org/pandas-docs/stable/user_guide/indexing.html#returning-a-view-versus-a-copy\n  \"\"\"\nC:\\ProgramData\\Anaconda3\\lib\\site-packages\\ipykernel_launcher.py:6: SettingWithCopyWarning: \nA value is trying to be set on a copy of a slice from a DataFrame.\nTry using .loc[row_indexer,col_indexer] = value instead\n\nSee the caveats in the documentation: http://pandas.pydata.org/pandas-docs/stable/user_guide/indexing.html#returning-a-view-versus-a-copy\n  \nC:\\ProgramData\\Anaconda3\\lib\\site-packages\\ipykernel_launcher.py:7: SettingWithCopyWarning: \nA value is trying to be set on a copy of a slice from a DataFrame.\nTry using .loc[row_indexer,col_indexer] = value instead\n\nSee the caveats in the documentation: http://pandas.pydata.org/pandas-docs/stable/user_guide/indexing.html#returning-a-view-versus-a-copy\n  import sys\nC:\\ProgramData\\Anaconda3\\lib\\site-packages\\ipykernel_launcher.py:8: SettingWithCopyWarning: \nA value is trying to be set on a copy of a slice from a DataFrame.\nTry using .loc[row_indexer,col_indexer] = value instead\n\nSee the caveats in the documentation: http://pandas.pydata.org/pandas-docs/stable/user_guide/indexing.html#returning-a-view-versus-a-copy\n  \nC:\\ProgramData\\Anaconda3\\lib\\site-packages\\ipykernel_launcher.py:9: SettingWithCopyWarning: \nA value is trying to be set on a copy of a slice from a DataFrame.\nTry using .loc[row_indexer,col_indexer] = value instead\n\nSee the caveats in the documentation: http://pandas.pydata.org/pandas-docs/stable/user_guide/indexing.html#returning-a-view-versus-a-copy\n  if __name__ == '__main__':\nC:\\ProgramData\\Anaconda3\\lib\\site-packages\\ipykernel_launcher.py:10: SettingWithCopyWarning: \nA value is trying to be set on a copy of a slice from a DataFrame.\nTry using .loc[row_indexer,col_indexer] = value instead\n\nSee the caveats in the documentation: http://pandas.pydata.org/pandas-docs/stable/user_guide/indexing.html#returning-a-view-versus-a-copy\n  # Remove the CWD from sys.path while we load stuff.\n"
    }
   ],
   "source": [
    "#convert X axis to numeric\n",
    "X['gender'],_  = pd.factorize(X['gender'])\n",
    "X['level'],_  = pd.factorize(X['level'])\n",
    "X['repeated'],_  = pd.factorize(X['repeated'])\n",
    "X['study_path'],_  = pd.factorize(X['study_path'])\n",
    "X['scholar_year'],_  = pd.factorize(X['scholar_year'])\n",
    "X['bac_year'],_  = pd.factorize(X['bac_year'])\n",
    "X['bac_path'],_  = pd.factorize(X['bac_path'])\n",
    "X['bac_feedback'],_  = pd.factorize(X['bac_feedback'])\n",
    "X['bac_avg'],_  = pd.factorize(X['bac_avg'])\n",
    "X.info()\n"
   ]
  },
  {
   "cell_type": "code",
   "execution_count": 24,
   "metadata": {},
   "outputs": [
    {
     "data": {
      "text/plain": "array([0, 0, 0, ..., 0, 0, 0], dtype=int64)"
     },
     "execution_count": 24,
     "metadata": {},
     "output_type": "execute_result"
    }
   ],
   "source": [
    "#convert Y axis to numeric\n",
    "Y,_  = pd.factorize(Y)\n",
    "Y"
   ]
  },
  {
   "cell_type": "code",
   "execution_count": 25,
   "metadata": {},
   "outputs": [],
   "source": [
    "#slplit data to train and test\n",
    "from sklearn.model_selection import train_test_split\n",
    "X_train, X_test, y_train, y_test = train_test_split(X, Y, random_state=0)"
   ]
  },
  {
   "cell_type": "code",
   "execution_count": 26,
   "metadata": {},
   "outputs": [],
   "source": [
    "#train\n",
    "from sklearn import svm\n",
    "clf = svm.SVC(kernel=\"poly\")\n",
    "clf.fit(X_train,y_train)"
   ]
  },
  {
   "cell_type": "code",
   "execution_count": 17,
   "metadata": {},
   "outputs": [
    {
     "data": {
      "text/plain": "0.7495621716287215"
     },
     "execution_count": 17,
     "metadata": {},
     "output_type": "execute_result"
    }
   ],
   "source": [
    "#predict\n",
    "pred = clf.predict(X_test)\n",
    "accuracy = accuracy_score(y_test, pred)\n",
    "print(\" accuracy \",accuracy)"
   ]
  },
  {
   "cell_type": "code",
   "execution_count": 15,
   "metadata": {},
   "outputs": [
    {
     "data": {
      "text/plain": "<function print>"
     },
     "execution_count": 15,
     "metadata": {},
     "output_type": "execute_result"
    }
   ],
   "source": [
    "print"
   ]
  }
 ]
}